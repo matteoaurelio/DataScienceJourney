{
 "cells": [
  {
   "cell_type": "markdown",
   "id": "e30b6ac1-2dac-498e-a4c8-3a043623c382",
   "metadata": {},
   "source": [
    "# Matteo Arellano - Python Numerical Evaluation Project\n",
    "\n",
    "### Create a Stack Class"
   ]
  },
  {
   "cell_type": "code",
   "execution_count": 78,
   "id": "cbf80450-d361-48bf-b05a-abbcdf84f56b",
   "metadata": {},
   "outputs": [],
   "source": [
    "class Node:\n",
    "    def __init__(self, data):\n",
    "        self.data = data\n",
    "        self.next = None\n",
    "        self.prev = None\n",
    "\n",
    "class Stack:\n",
    "    def __init__(self):\n",
    "        self.head = None\n",
    "        self.tail = None\n",
    "        self.length = 0\n",
    "        \n",
    "    def push(self, data):\n",
    "        new_node = Node(data)\n",
    "        \n",
    "        if self.length == 0:\n",
    "            self.head = self.tail = new_node\n",
    "        else:\n",
    "            self.tail.next = new_node\n",
    "            new_node.prev = self.tail\n",
    "            self.tail = new_node\n",
    "        \n",
    "        self.length += 1\n",
    "    \n",
    "    def peek(self):\n",
    "        return self.tail.data\n",
    "    \n",
    "    def pop(self):\n",
    "        \n",
    "        ret = self.tail.data\n",
    "        \n",
    "        if self.length == 1:\n",
    "            self.head = self.tail = None\n",
    "        else:\n",
    "            self.tail = self.tail.prev\n",
    "            self.tail.next = None\n",
    "        \n",
    "        self.length -= 1\n",
    "        \n",
    "        return ret\n",
    "    \n",
    "    def __iter__(self):\n",
    "        self._iter_node = self.head\n",
    "        return self\n",
    "    def __next__(self):\n",
    "        \n",
    "        if self._iter_node is None:\n",
    "            raise StopIteration\n",
    "        \n",
    "        ret = self._iter_node.data\n",
    "        \n",
    "        self._iter_node = self._iter_node.next\n",
    "        \n",
    "        return ret\n",
    "    \n",
    "    def __str__(self):\n",
    "        return str([value for value in self])\n",
    "    \n",
    "    def __len__(self):\n",
    "        return self.length\n",
    "    \n",
    "        \n",
    "        \n",
    "        "
   ]
  },
  {
   "cell_type": "markdown",
   "id": "976f3d54-81e7-4584-a8df-14a298f9ae1f",
   "metadata": {},
   "source": [
    "## Implementing Postfix notation to Output"
   ]
  },
  {
   "cell_type": "markdown",
   "id": "2c6a6b43-31b7-406d-8fdb-b0a744695a82",
   "metadata": {},
   "source": [
    "In order to implement postfix notation:\n",
    "\n",
    "1. For each item in the postfix list,\n",
    "    a) Check if it is an operator, if so:\n",
    "        i) Pop out the first top two elements from the list and make the operation. Always make sure that\n",
    "        the second element popped is the one that is the first one on the operation\n",
    "    b) If not, keep looping through the numbers and add them to the stack.\n",
    "   \n",
    "2. Make sure that the tokenize function is robust:\n",
    "    a) It can accept items separated by:\n",
    "      (i) Spaces\n",
    "      (ii) Commas\n",
    "      (iii) No separation"
   ]
  },
  {
   "cell_type": "code",
   "execution_count": 200,
   "id": "06ab8953-d06c-469d-bff8-6b25faa7114e",
   "metadata": {},
   "outputs": [],
   "source": [
    "import re\n",
    "\n",
    "def tokenize(expression):\n",
    "    return re.findall(r\"\\d+|\\*+|[-+/()]\", expression)\n",
    "\n",
    "def process_sum(stack):\n",
    "    top_item = stack.pop()\n",
    "    second_item = stack.pop()\n",
    "    result = second_item + top_item\n",
    "    stack.push(result)\n",
    "    \n",
    "def process_minus(stack):\n",
    "    top_item = stack.pop()\n",
    "    second_item = stack.pop()\n",
    "    result = second_item - top_item\n",
    "    stack.push(result)\n",
    "    \n",
    "def process_multiplication(stack):\n",
    "    top_item = stack.pop()\n",
    "    second_item = stack.pop()\n",
    "    result = second_item * top_item\n",
    "    stack.push(result)\n",
    "\n",
    "def process_division(stack):\n",
    "    top_item = stack.pop()\n",
    "    second_item = stack.pop()\n",
    "    result = second_item / top_item\n",
    "    stack.push(result)\n",
    "\n",
    "def process_intdivision(stack):\n",
    "    top_item = stack.pop()\n",
    "    second_item = stack.pop()\n",
    "    result = second_item // top_item\n",
    "    stack.push(result)\n",
    "\n",
    "def process_power(stack):\n",
    "    top_item = stack.pop()\n",
    "    second_item = stack.pop()\n",
    "    result = second_item ** top_item\n",
    "    stack.push(result)"
   ]
  },
  {
   "cell_type": "code",
   "execution_count": 201,
   "id": "aff0994a-20d7-440a-85cd-2fd6a684ab83",
   "metadata": {},
   "outputs": [],
   "source": [
    "processes = {\"+\": process_sum, \"-\": process_minus, \"/\": process_division, \"//\": process_intdivision,\n",
    "             \"*\": process_multiplication, \"**\": process_power}\n"
   ]
  },
  {
   "cell_type": "code",
   "execution_count": 202,
   "id": "db214a61-6f0f-4f02-b65d-d8d1acfee8ab",
   "metadata": {},
   "outputs": [],
   "source": [
    "def postfix_to_output(expression):\n",
    "    \n",
    "    tokens = tokenize(expression)\n",
    "    stack = Stack()\n",
    "    \n",
    "    for token in tokens:\n",
    "        if token in processes:\n",
    "            processes[token](stack)\n",
    "        else:\n",
    "            token = float(token)\n",
    "            stack.push(token)\n",
    "    \n",
    "    return print(stack.pop())"
   ]
  },
  {
   "cell_type": "code",
   "execution_count": 203,
   "id": "f32c498f-18d5-4fa1-bf41-90b54cc9d2fb",
   "metadata": {},
   "outputs": [
    {
     "name": "stdout",
     "output_type": "stream",
     "text": [
      "-2.0\n",
      "8.0\n",
      "0.0\n",
      "2.0\n",
      "11.25\n",
      "45.0\n",
      "42.0\n",
      "4.0\n",
      "2.0\n"
     ]
    }
   ],
   "source": [
    "expressions = [\n",
    "    \"4 6 -\",\n",
    "    \"4 1 2 9 3 / * + 5 - *\",\n",
    "    \"1 2 + 3 -\",\n",
    "    \"1 2 - 3 +\",\n",
    "    \"10 3 5 * 16 4 - / +\",\n",
    "    \"5 3 4 2 - ** *\",\n",
    "    \"12 2 4 + / 21 *\",\n",
    "    \"1 1 + 2 **\",\n",
    "    \"1 1 2 ** +\"\n",
    "]\n",
    "\n",
    "\n",
    "for expression in expressions:\n",
    "    postfix_to_output(expression)"
   ]
  },
  {
   "cell_type": "markdown",
   "id": "5d381bb8-7257-48cc-be6d-7a77f32f8cf2",
   "metadata": {},
   "source": [
    "## Shunting Yard Algorithm: From Infix to Postfix Notation"
   ]
  },
  {
   "cell_type": "markdown",
   "id": "a3aa0638-9de9-4aa7-bf7f-df6753c95ca9",
   "metadata": {},
   "source": [
    "1.  While there are tokens to be read:\n",
    "2.        Read a token\n",
    "3.        If it's a number add it to queue\n",
    "4.        If it's an operator\n",
    "5.               While there's an operator on the top of the stack with greater precedence:\n",
    "6.                       Pop operators from the stack onto the output queue\n",
    "7.               Push the current operator onto the stack\n",
    "8.        If it's a left bracket push it onto the stack\n",
    "9.        If it's a right bracket \n",
    "10.            While there's not a left bracket at the top of the stack:\n",
    "11.                     Pop operators from the stack onto the output queue.\n",
    "12.             Pop the left bracket from the stack and discard it\n",
    "13. While there are operators on the stack, pop them to the queue"
   ]
  },
  {
   "cell_type": "code",
   "execution_count": 207,
   "id": "77fb4aef-af82-438f-8564-52822a63da85",
   "metadata": {},
   "outputs": [],
   "source": [
    "hierarchy = {\"+\": 1, \"-\": 1, \"/\": 2, \"*\": 2, \"//\": 2, \"**\":3}\n",
    "\n",
    "def infix_to_postfix(expression):\n",
    "    \n",
    "    tokens = tokenize(expression)\n",
    "    \n",
    "    stack = Stack()\n",
    "    postfix = []\n",
    "    \n",
    "    for token in tokens:\n",
    "        if token == \"(\":\n",
    "            stack.push(token)\n",
    "        elif token == \")\":\n",
    "            while stack.peek() != \"(\":\n",
    "                postfix.append(stack.pop())\n",
    "                \n",
    "            stack.pop()\n",
    "        elif token in hierarchy:\n",
    "            while len(stack) > 0 and stack.peek() in hierarchy and hierarchy[stack.peek()] >= hierarchy[token]:\n",
    "                postfix.append(stack.pop())\n",
    "                \n",
    "            stack.push(token)\n",
    "        else:\n",
    "            postfix.append(token)\n",
    "    \n",
    "    while len(stack) > 0:\n",
    "        postfix.append(stack.pop())\n",
    "        \n",
    "    \n",
    "    return \" \".join(postfix)\n",
    "    \n",
    "            \n",
    "    \n",
    "    \n",
    "    "
   ]
  },
  {
   "cell_type": "code",
   "execution_count": 209,
   "id": "8a2c9019-8f4c-4b8b-ba3c-66caa6101dbe",
   "metadata": {},
   "outputs": [],
   "source": [
    "def evaluate(expression):\n",
    "    postfix = infix_to_postfix(expression)\n",
    "    output = postfix_to_output(postfix)\n",
    "    \n",
    "    return output"
   ]
  },
  {
   "cell_type": "code",
   "execution_count": 211,
   "id": "aa847a54-73ba-4155-be03-b51872d2b727",
   "metadata": {},
   "outputs": [],
   "source": [
    "expressions = [\n",
    "    \"1 + 1\",\n",
    "    \"1 * ( 2 - ( 1 + 1 ) )\",\n",
    "    \"4 * ( 1 + 2 * ( 9 / 3 ) - 5 )\",\n",
    "    \"10 + 3 * 5 / ( 16 - 4 * 1 )\",\n",
    "    \"2 * 2 * 2 * 2 * 2 * 2 * 2 * 2\",\n",
    "    \"2 ** 2 ** 2 ** 2 ** 2\",\n",
    "    \"( 1 - 2 ) / ( 3 - 5 )\",\n",
    "    \"9 / 8 * 8\",\n",
    "    \"64 / ( 8 * 8 )\",\n",
    "]"
   ]
  },
  {
   "cell_type": "code",
   "execution_count": 212,
   "id": "d5d4722c-8f13-454b-9c08-340a0b76f958",
   "metadata": {},
   "outputs": [
    {
     "name": "stdout",
     "output_type": "stream",
     "text": [
      "2.0\n",
      "0.0\n",
      "8.0\n",
      "11.25\n",
      "256.0\n",
      "65536.0\n",
      "0.5\n",
      "9.0\n",
      "1.0\n"
     ]
    }
   ],
   "source": [
    "for expression in expressions:\n",
    "    evaluate(expression)"
   ]
  },
  {
   "cell_type": "markdown",
   "id": "e33a7d71-8af9-482b-bf09-2247634494ae",
   "metadata": {},
   "source": [
    "Expected results:\n",
    "2.0\n",
    "0.0\n",
    "8.0\n",
    "11.25\n",
    "256.0\n",
    "65536.0\n",
    "0.5\n",
    "9.0\n",
    "1.0"
   ]
  }
 ],
 "metadata": {
  "kernelspec": {
   "display_name": "Python 3 (ipykernel)",
   "language": "python",
   "name": "python3"
  },
  "language_info": {
   "codemirror_mode": {
    "name": "ipython",
    "version": 3
   },
   "file_extension": ".py",
   "mimetype": "text/x-python",
   "name": "python",
   "nbconvert_exporter": "python",
   "pygments_lexer": "ipython3",
   "version": "3.9.7"
  }
 },
 "nbformat": 4,
 "nbformat_minor": 5
}
